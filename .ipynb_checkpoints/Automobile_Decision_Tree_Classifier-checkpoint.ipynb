{
 "cells": [
  {
   "cell_type": "code",
   "execution_count": 181,
   "id": "45e42b86",
   "metadata": {},
   "outputs": [],
   "source": [
    "import pandas as pd\n",
    "import numpy as np"
   ]
  },
  {
   "cell_type": "code",
   "execution_count": 182,
   "id": "f69be167",
   "metadata": {},
   "outputs": [],
   "source": [
    "auto_price = pd.read_csv(r'C:\\Users\\steph\\bepec\\Machine Learning\\Stats\\automobile_pricingLlinear_DecisionTreeClassifier\\data\\Automobile price data _Raw_.csv')"
   ]
  },
  {
   "cell_type": "code",
   "execution_count": 183,
   "id": "4d527ce4",
   "metadata": {},
   "outputs": [
    {
     "name": "stdout",
     "output_type": "stream",
     "text": [
      "<class 'pandas.core.frame.DataFrame'>\n",
      "RangeIndex: 205 entries, 0 to 204\n",
      "Data columns (total 26 columns):\n",
      " #   Column             Non-Null Count  Dtype  \n",
      "---  ------             --------------  -----  \n",
      " 0   symboling          205 non-null    int64  \n",
      " 1   normalized-losses  205 non-null    object \n",
      " 2   make               205 non-null    object \n",
      " 3   fuel-type          205 non-null    object \n",
      " 4   aspiration         205 non-null    object \n",
      " 5   num-of-doors       205 non-null    object \n",
      " 6   body-style         205 non-null    object \n",
      " 7   drive-wheels       205 non-null    object \n",
      " 8   engine-location    205 non-null    object \n",
      " 9   wheel-base         205 non-null    float64\n",
      " 10  length             205 non-null    float64\n",
      " 11  width              205 non-null    float64\n",
      " 12  height             205 non-null    float64\n",
      " 13  curb-weight        205 non-null    int64  \n",
      " 14  engine-type        205 non-null    object \n",
      " 15  num-of-cylinders   205 non-null    object \n",
      " 16  engine-size        205 non-null    int64  \n",
      " 17  fuel-system        205 non-null    object \n",
      " 18  bore               205 non-null    object \n",
      " 19  stroke             205 non-null    object \n",
      " 20  compression-ratio  205 non-null    float64\n",
      " 21  horsepower         205 non-null    object \n",
      " 22  peak-rpm           205 non-null    object \n",
      " 23  city-mpg           205 non-null    int64  \n",
      " 24  highway-mpg        205 non-null    int64  \n",
      " 25  price              205 non-null    object \n",
      "dtypes: float64(5), int64(5), object(16)\n",
      "memory usage: 41.8+ KB\n"
     ]
    }
   ],
   "source": [
    "auto_price.info()"
   ]
  },
  {
   "cell_type": "code",
   "execution_count": 184,
   "id": "f5060ccd",
   "metadata": {},
   "outputs": [
    {
     "data": {
      "text/plain": [
       "symboling            0\n",
       "normalized-losses    0\n",
       "make                 0\n",
       "fuel-type            0\n",
       "aspiration           0\n",
       "num-of-doors         0\n",
       "body-style           0\n",
       "drive-wheels         0\n",
       "engine-location      0\n",
       "wheel-base           0\n",
       "length               0\n",
       "width                0\n",
       "height               0\n",
       "curb-weight          0\n",
       "engine-type          0\n",
       "num-of-cylinders     0\n",
       "engine-size          0\n",
       "fuel-system          0\n",
       "bore                 0\n",
       "stroke               0\n",
       "compression-ratio    0\n",
       "horsepower           0\n",
       "peak-rpm             0\n",
       "city-mpg             0\n",
       "highway-mpg          0\n",
       "price                0\n",
       "dtype: int64"
      ]
     },
     "execution_count": 184,
     "metadata": {},
     "output_type": "execute_result"
    }
   ],
   "source": [
    "auto_price.isnull().sum()"
   ]
  },
  {
   "cell_type": "code",
   "execution_count": 185,
   "id": "6084613c",
   "metadata": {},
   "outputs": [
    {
     "data": {
      "text/html": [
       "<div>\n",
       "<style scoped>\n",
       "    .dataframe tbody tr th:only-of-type {\n",
       "        vertical-align: middle;\n",
       "    }\n",
       "\n",
       "    .dataframe tbody tr th {\n",
       "        vertical-align: top;\n",
       "    }\n",
       "\n",
       "    .dataframe thead th {\n",
       "        text-align: right;\n",
       "    }\n",
       "</style>\n",
       "<table border=\"1\" class=\"dataframe\">\n",
       "  <thead>\n",
       "    <tr style=\"text-align: right;\">\n",
       "      <th></th>\n",
       "      <th>symboling</th>\n",
       "      <th>normalized-losses</th>\n",
       "      <th>make</th>\n",
       "      <th>fuel-type</th>\n",
       "      <th>aspiration</th>\n",
       "      <th>num-of-doors</th>\n",
       "      <th>body-style</th>\n",
       "      <th>drive-wheels</th>\n",
       "      <th>engine-location</th>\n",
       "      <th>wheel-base</th>\n",
       "      <th>...</th>\n",
       "      <th>engine-size</th>\n",
       "      <th>fuel-system</th>\n",
       "      <th>bore</th>\n",
       "      <th>stroke</th>\n",
       "      <th>compression-ratio</th>\n",
       "      <th>horsepower</th>\n",
       "      <th>peak-rpm</th>\n",
       "      <th>city-mpg</th>\n",
       "      <th>highway-mpg</th>\n",
       "      <th>price</th>\n",
       "    </tr>\n",
       "  </thead>\n",
       "  <tbody>\n",
       "    <tr>\n",
       "      <th>0</th>\n",
       "      <td>3</td>\n",
       "      <td>?</td>\n",
       "      <td>alfa-romero</td>\n",
       "      <td>gas</td>\n",
       "      <td>std</td>\n",
       "      <td>two</td>\n",
       "      <td>convertible</td>\n",
       "      <td>rwd</td>\n",
       "      <td>front</td>\n",
       "      <td>88.6</td>\n",
       "      <td>...</td>\n",
       "      <td>130</td>\n",
       "      <td>mpfi</td>\n",
       "      <td>3.47</td>\n",
       "      <td>2.68</td>\n",
       "      <td>9.0</td>\n",
       "      <td>111</td>\n",
       "      <td>5000</td>\n",
       "      <td>21</td>\n",
       "      <td>27</td>\n",
       "      <td>13495</td>\n",
       "    </tr>\n",
       "    <tr>\n",
       "      <th>1</th>\n",
       "      <td>3</td>\n",
       "      <td>?</td>\n",
       "      <td>alfa-romero</td>\n",
       "      <td>gas</td>\n",
       "      <td>std</td>\n",
       "      <td>two</td>\n",
       "      <td>convertible</td>\n",
       "      <td>rwd</td>\n",
       "      <td>front</td>\n",
       "      <td>88.6</td>\n",
       "      <td>...</td>\n",
       "      <td>130</td>\n",
       "      <td>mpfi</td>\n",
       "      <td>3.47</td>\n",
       "      <td>2.68</td>\n",
       "      <td>9.0</td>\n",
       "      <td>111</td>\n",
       "      <td>5000</td>\n",
       "      <td>21</td>\n",
       "      <td>27</td>\n",
       "      <td>16500</td>\n",
       "    </tr>\n",
       "    <tr>\n",
       "      <th>2</th>\n",
       "      <td>1</td>\n",
       "      <td>?</td>\n",
       "      <td>alfa-romero</td>\n",
       "      <td>gas</td>\n",
       "      <td>std</td>\n",
       "      <td>two</td>\n",
       "      <td>hatchback</td>\n",
       "      <td>rwd</td>\n",
       "      <td>front</td>\n",
       "      <td>94.5</td>\n",
       "      <td>...</td>\n",
       "      <td>152</td>\n",
       "      <td>mpfi</td>\n",
       "      <td>2.68</td>\n",
       "      <td>3.47</td>\n",
       "      <td>9.0</td>\n",
       "      <td>154</td>\n",
       "      <td>5000</td>\n",
       "      <td>19</td>\n",
       "      <td>26</td>\n",
       "      <td>16500</td>\n",
       "    </tr>\n",
       "    <tr>\n",
       "      <th>3</th>\n",
       "      <td>2</td>\n",
       "      <td>164</td>\n",
       "      <td>audi</td>\n",
       "      <td>gas</td>\n",
       "      <td>std</td>\n",
       "      <td>four</td>\n",
       "      <td>sedan</td>\n",
       "      <td>fwd</td>\n",
       "      <td>front</td>\n",
       "      <td>99.8</td>\n",
       "      <td>...</td>\n",
       "      <td>109</td>\n",
       "      <td>mpfi</td>\n",
       "      <td>3.19</td>\n",
       "      <td>3.40</td>\n",
       "      <td>10.0</td>\n",
       "      <td>102</td>\n",
       "      <td>5500</td>\n",
       "      <td>24</td>\n",
       "      <td>30</td>\n",
       "      <td>13950</td>\n",
       "    </tr>\n",
       "    <tr>\n",
       "      <th>4</th>\n",
       "      <td>2</td>\n",
       "      <td>164</td>\n",
       "      <td>audi</td>\n",
       "      <td>gas</td>\n",
       "      <td>std</td>\n",
       "      <td>four</td>\n",
       "      <td>sedan</td>\n",
       "      <td>4wd</td>\n",
       "      <td>front</td>\n",
       "      <td>99.4</td>\n",
       "      <td>...</td>\n",
       "      <td>136</td>\n",
       "      <td>mpfi</td>\n",
       "      <td>3.19</td>\n",
       "      <td>3.40</td>\n",
       "      <td>8.0</td>\n",
       "      <td>115</td>\n",
       "      <td>5500</td>\n",
       "      <td>18</td>\n",
       "      <td>22</td>\n",
       "      <td>17450</td>\n",
       "    </tr>\n",
       "  </tbody>\n",
       "</table>\n",
       "<p>5 rows × 26 columns</p>\n",
       "</div>"
      ],
      "text/plain": [
       "   symboling normalized-losses         make fuel-type aspiration num-of-doors  \\\n",
       "0          3                 ?  alfa-romero       gas        std          two   \n",
       "1          3                 ?  alfa-romero       gas        std          two   \n",
       "2          1                 ?  alfa-romero       gas        std          two   \n",
       "3          2               164         audi       gas        std         four   \n",
       "4          2               164         audi       gas        std         four   \n",
       "\n",
       "    body-style drive-wheels engine-location  wheel-base  ...  engine-size  \\\n",
       "0  convertible          rwd           front        88.6  ...          130   \n",
       "1  convertible          rwd           front        88.6  ...          130   \n",
       "2    hatchback          rwd           front        94.5  ...          152   \n",
       "3        sedan          fwd           front        99.8  ...          109   \n",
       "4        sedan          4wd           front        99.4  ...          136   \n",
       "\n",
       "   fuel-system  bore  stroke compression-ratio horsepower  peak-rpm city-mpg  \\\n",
       "0         mpfi  3.47    2.68               9.0        111      5000       21   \n",
       "1         mpfi  3.47    2.68               9.0        111      5000       21   \n",
       "2         mpfi  2.68    3.47               9.0        154      5000       19   \n",
       "3         mpfi  3.19    3.40              10.0        102      5500       24   \n",
       "4         mpfi  3.19    3.40               8.0        115      5500       18   \n",
       "\n",
       "  highway-mpg  price  \n",
       "0          27  13495  \n",
       "1          27  16500  \n",
       "2          26  16500  \n",
       "3          30  13950  \n",
       "4          22  17450  \n",
       "\n",
       "[5 rows x 26 columns]"
      ]
     },
     "execution_count": 185,
     "metadata": {},
     "output_type": "execute_result"
    }
   ],
   "source": [
    "auto_price.head(5)"
   ]
  },
  {
   "cell_type": "code",
   "execution_count": 186,
   "id": "209585c9",
   "metadata": {},
   "outputs": [
    {
     "data": {
      "text/plain": [
       "array(['gas', 'diesel'], dtype=object)"
      ]
     },
     "execution_count": 186,
     "metadata": {},
     "output_type": "execute_result"
    }
   ],
   "source": [
    "auto_price['fuel-type'].unique()"
   ]
  },
  {
   "cell_type": "code",
   "execution_count": 187,
   "id": "52260181",
   "metadata": {},
   "outputs": [],
   "source": [
    "auto_price['fuel-type'] = auto_price['fuel-type'].replace(['gas', 'diesel'], [0,1])"
   ]
  },
  {
   "cell_type": "code",
   "execution_count": 188,
   "id": "141b1f1c",
   "metadata": {},
   "outputs": [
    {
     "data": {
      "text/plain": [
       "array([0, 1], dtype=int64)"
      ]
     },
     "execution_count": 188,
     "metadata": {},
     "output_type": "execute_result"
    }
   ],
   "source": [
    "auto_price['fuel-type'] .unique()"
   ]
  },
  {
   "cell_type": "code",
   "execution_count": 189,
   "id": "4bcc8750",
   "metadata": {},
   "outputs": [],
   "source": [
    "auto_price['fuel-type'] = pd.to_numeric(auto_price['fuel-type'] )"
   ]
  },
  {
   "cell_type": "code",
   "execution_count": 190,
   "id": "ed5671d8",
   "metadata": {},
   "outputs": [
    {
     "data": {
      "text/plain": [
       "array([0, 1], dtype=int64)"
      ]
     },
     "execution_count": 190,
     "metadata": {},
     "output_type": "execute_result"
    }
   ],
   "source": [
    "auto_price['fuel-type'].unique()"
   ]
  },
  {
   "cell_type": "code",
   "execution_count": 191,
   "id": "bfa8c02e",
   "metadata": {},
   "outputs": [
    {
     "data": {
      "text/plain": [
       "array(['?', '164', '158', '192', '188', '121', '98', '81', '118', '148',\n",
       "       '110', '145', '137', '101', '78', '106', '85', '107', '104', '113',\n",
       "       '150', '129', '115', '93', '142', '161', '153', '125', '128',\n",
       "       '122', '103', '168', '108', '194', '231', '119', '154', '74',\n",
       "       '186', '83', '102', '89', '87', '77', '91', '134', '65', '197',\n",
       "       '90', '94', '256', '95'], dtype=object)"
      ]
     },
     "execution_count": 191,
     "metadata": {},
     "output_type": "execute_result"
    }
   ],
   "source": [
    "auto_price['normalized-losses'].unique()"
   ]
  },
  {
   "cell_type": "code",
   "execution_count": 192,
   "id": "c8d839f2",
   "metadata": {},
   "outputs": [],
   "source": [
    "auto_price['normalized-losses'] = auto_price['normalized-losses'].replace('?', np.nan)"
   ]
  },
  {
   "cell_type": "code",
   "execution_count": 193,
   "id": "8e37d7ff",
   "metadata": {},
   "outputs": [
    {
     "data": {
      "text/plain": [
       "3      164\n",
       "4      164\n",
       "6      158\n",
       "8      158\n",
       "10     192\n",
       "      ... \n",
       "200     95\n",
       "201     95\n",
       "202     95\n",
       "203     95\n",
       "204     95\n",
       "Name: normalized-losses, Length: 164, dtype: object"
      ]
     },
     "execution_count": 193,
     "metadata": {},
     "output_type": "execute_result"
    }
   ],
   "source": [
    "auto_price['normalized-losses'].dropna()"
   ]
  },
  {
   "cell_type": "code",
   "execution_count": 194,
   "id": "1fcc008c",
   "metadata": {},
   "outputs": [
    {
     "data": {
      "text/plain": [
       "3      164\n",
       "4      164\n",
       "6      158\n",
       "8      158\n",
       "10     192\n",
       "      ... \n",
       "200     95\n",
       "201     95\n",
       "202     95\n",
       "203     95\n",
       "204     95\n",
       "Name: normalized-losses, Length: 164, dtype: object"
      ]
     },
     "execution_count": 194,
     "metadata": {},
     "output_type": "execute_result"
    }
   ],
   "source": [
    "auto_price['normalized-losses'].dropna()"
   ]
  },
  {
   "cell_type": "code",
   "execution_count": 195,
   "id": "b191efa3",
   "metadata": {},
   "outputs": [
    {
     "data": {
      "text/plain": [
       "array([nan, '164', '158', '192', '188', '121', '98', '81', '118', '148',\n",
       "       '110', '145', '137', '101', '78', '106', '85', '107', '104', '113',\n",
       "       '150', '129', '115', '93', '142', '161', '153', '125', '128',\n",
       "       '122', '103', '168', '108', '194', '231', '119', '154', '74',\n",
       "       '186', '83', '102', '89', '87', '77', '91', '134', '65', '197',\n",
       "       '90', '94', '256', '95'], dtype=object)"
      ]
     },
     "execution_count": 195,
     "metadata": {},
     "output_type": "execute_result"
    }
   ],
   "source": [
    "auto_price['normalized-losses'].unique()"
   ]
  },
  {
   "cell_type": "code",
   "execution_count": 196,
   "id": "c048c792",
   "metadata": {},
   "outputs": [
    {
     "data": {
      "text/plain": [
       "array([ 3,  1,  2,  0, -1, -2], dtype=int64)"
      ]
     },
     "execution_count": 196,
     "metadata": {},
     "output_type": "execute_result"
    }
   ],
   "source": [
    "auto_price['symboling'].unique()"
   ]
  },
  {
   "cell_type": "code",
   "execution_count": 197,
   "id": "2e179ce9",
   "metadata": {},
   "outputs": [],
   "source": [
    "auto_price['symboling'] = auto_price['symboling'].replace([ 3,  1,  2,  0, -1, -2], [3,1,2,0,np.nan,np.nan])"
   ]
  },
  {
   "cell_type": "code",
   "execution_count": 198,
   "id": "8987d0cf",
   "metadata": {},
   "outputs": [],
   "source": [
    "auto_price['symboling'] = np.nan_to_num(auto_price['symboling'])"
   ]
  },
  {
   "cell_type": "code",
   "execution_count": 199,
   "id": "025090e7",
   "metadata": {},
   "outputs": [],
   "source": [
    "auto_price['symboling'] = auto_price['symboling'].astype(int)"
   ]
  },
  {
   "cell_type": "code",
   "execution_count": 200,
   "id": "432ba5f0",
   "metadata": {},
   "outputs": [
    {
     "data": {
      "text/plain": [
       "array([3, 1, 2, 0])"
      ]
     },
     "execution_count": 200,
     "metadata": {},
     "output_type": "execute_result"
    }
   ],
   "source": [
    "auto_price['symboling'].unique()"
   ]
  },
  {
   "cell_type": "code",
   "execution_count": 201,
   "id": "1cac7beb",
   "metadata": {},
   "outputs": [
    {
     "data": {
      "text/plain": [
       "array(['std', 'turbo'], dtype=object)"
      ]
     },
     "execution_count": 201,
     "metadata": {},
     "output_type": "execute_result"
    }
   ],
   "source": [
    "auto_price['aspiration'].unique()"
   ]
  },
  {
   "cell_type": "code",
   "execution_count": 202,
   "id": "669b7e36",
   "metadata": {},
   "outputs": [],
   "source": [
    "auto_price['aspiration'] = auto_price['aspiration'].replace(['std', 'turbo'], [0,1])"
   ]
  },
  {
   "cell_type": "code",
   "execution_count": 203,
   "id": "9349b479",
   "metadata": {},
   "outputs": [
    {
     "data": {
      "text/plain": [
       "array([0, 1], dtype=int64)"
      ]
     },
     "execution_count": 203,
     "metadata": {},
     "output_type": "execute_result"
    }
   ],
   "source": [
    "auto_price['aspiration'].unique()"
   ]
  },
  {
   "cell_type": "code",
   "execution_count": 204,
   "id": "9849f71c",
   "metadata": {},
   "outputs": [
    {
     "data": {
      "text/plain": [
       "array(['two', 'four', '?'], dtype=object)"
      ]
     },
     "execution_count": 204,
     "metadata": {},
     "output_type": "execute_result"
    }
   ],
   "source": [
    "auto_price['num-of-doors'].unique()"
   ]
  },
  {
   "cell_type": "code",
   "execution_count": 205,
   "id": "43ba96e9",
   "metadata": {},
   "outputs": [],
   "source": [
    "auto_price['num-of-doors'] = auto_price['num-of-doors'].replace(['four', 'two', '?'], [4,2,np.nan])"
   ]
  },
  {
   "cell_type": "code",
   "execution_count": 206,
   "id": "3721bf27",
   "metadata": {},
   "outputs": [],
   "source": [
    "auto_price = auto_price.dropna()"
   ]
  },
  {
   "cell_type": "code",
   "execution_count": 207,
   "id": "e7d728e3",
   "metadata": {},
   "outputs": [],
   "source": [
    "auto_price['num-of-doors'] = auto_price['num-of-doors'].astype(int)"
   ]
  },
  {
   "cell_type": "code",
   "execution_count": 208,
   "id": "3416737b",
   "metadata": {},
   "outputs": [
    {
     "data": {
      "text/plain": [
       "array([4, 2])"
      ]
     },
     "execution_count": 208,
     "metadata": {},
     "output_type": "execute_result"
    }
   ],
   "source": [
    "auto_price['num-of-doors'].unique()"
   ]
  },
  {
   "cell_type": "code",
   "execution_count": 209,
   "id": "7401b776",
   "metadata": {},
   "outputs": [
    {
     "data": {
      "text/plain": [
       "array(['sedan', 'hatchback', 'wagon', 'hardtop', 'convertible'],\n",
       "      dtype=object)"
      ]
     },
     "execution_count": 209,
     "metadata": {},
     "output_type": "execute_result"
    }
   ],
   "source": [
    "auto_price['body-style'].unique()"
   ]
  },
  {
   "cell_type": "code",
   "execution_count": 210,
   "id": "dda9b006",
   "metadata": {},
   "outputs": [],
   "source": [
    "auto_price['body-style'] = auto_price['body-style'].replace(['sedan', 'hatchback', 'wagon', 'hardtop', 'convertible'], [0,1,2,3,4])"
   ]
  },
  {
   "cell_type": "code",
   "execution_count": 211,
   "id": "e1b9b711",
   "metadata": {},
   "outputs": [
    {
     "data": {
      "text/plain": [
       "array([0, 1, 2, 3, 4], dtype=int64)"
      ]
     },
     "execution_count": 211,
     "metadata": {},
     "output_type": "execute_result"
    }
   ],
   "source": [
    "auto_price['body-style'].unique()"
   ]
  },
  {
   "cell_type": "code",
   "execution_count": 212,
   "id": "2c8f7c5b",
   "metadata": {},
   "outputs": [
    {
     "data": {
      "text/plain": [
       "array(['fwd', '4wd', 'rwd'], dtype=object)"
      ]
     },
     "execution_count": 212,
     "metadata": {},
     "output_type": "execute_result"
    }
   ],
   "source": [
    "auto_price['drive-wheels'].unique()"
   ]
  },
  {
   "cell_type": "code",
   "execution_count": 213,
   "id": "3ba34369",
   "metadata": {},
   "outputs": [],
   "source": [
    "auto_price['drive-wheels'] = auto_price['drive-wheels'].replace(['fwd', '4wd', 'rwd'], [0,1,2])"
   ]
  },
  {
   "cell_type": "code",
   "execution_count": 214,
   "id": "d4e04d5c",
   "metadata": {},
   "outputs": [
    {
     "data": {
      "text/plain": [
       "array([0, 1, 2], dtype=int64)"
      ]
     },
     "execution_count": 214,
     "metadata": {},
     "output_type": "execute_result"
    }
   ],
   "source": [
    "auto_price['drive-wheels'].unique()"
   ]
  },
  {
   "cell_type": "code",
   "execution_count": 215,
   "id": "ef18438c",
   "metadata": {},
   "outputs": [
    {
     "data": {
      "text/plain": [
       "array(['front'], dtype=object)"
      ]
     },
     "execution_count": 215,
     "metadata": {},
     "output_type": "execute_result"
    }
   ],
   "source": [
    "auto_price['engine-location'].unique()"
   ]
  },
  {
   "cell_type": "code",
   "execution_count": 216,
   "id": "35136c15",
   "metadata": {},
   "outputs": [],
   "source": [
    "auto_price['engine-location'] = auto_price['engine-location'].replace('front', 1)"
   ]
  },
  {
   "cell_type": "code",
   "execution_count": 217,
   "id": "77cd8241",
   "metadata": {},
   "outputs": [
    {
     "data": {
      "text/plain": [
       "array([1], dtype=int64)"
      ]
     },
     "execution_count": 217,
     "metadata": {},
     "output_type": "execute_result"
    }
   ],
   "source": [
    "auto_price['engine-location'].unique()"
   ]
  },
  {
   "cell_type": "code",
   "execution_count": 218,
   "id": "12862dd4",
   "metadata": {},
   "outputs": [
    {
     "data": {
      "text/plain": [
       "array([176.6, 192.7, 176.8, 141.1, 155.9, 158.8, 157.3, 174.6, 173.2,\n",
       "       144.6, 150. , 163.4, 157.1, 167.5, 175.4, 169.1, 199.6, 159.1,\n",
       "       166.8, 169. , 177.8, 175. , 190.9, 187.5, 202.6, 180.3, 173. ,\n",
       "       172.4, 165.3, 170.2, 165.6, 162.4, 173.4, 181.7, 184.6, 170.7,\n",
       "       178.5, 186.7, 167.3, 168.9, 186.6, 156.9, 157.9, 172. , 173.5,\n",
       "       173.6, 158.7, 169.7, 166.3, 168.7, 176.2, 175.6, 183.5, 187.8,\n",
       "       171.7, 165.7, 188.8])"
      ]
     },
     "execution_count": 218,
     "metadata": {},
     "output_type": "execute_result"
    }
   ],
   "source": [
    "auto_price['length'].unique()"
   ]
  },
  {
   "cell_type": "code",
   "execution_count": 219,
   "id": "627248a8",
   "metadata": {},
   "outputs": [
    {
     "data": {
      "text/plain": [
       "array([66.2, 66.4, 71.4, 64.8, 60.3, 63.6, 63.8, 64.6, 66.3, 63.9, 64. ,\n",
       "       65.2, 62.5, 66. , 69.6, 64.2, 65.7, 66.5, 66.1, 70.3, 71.7, 70.5,\n",
       "       64.4, 65.4, 67.9, 68.4, 68.3, 63.4, 65.6, 67.7, 65.5, 67.2, 68.9,\n",
       "       68.8])"
      ]
     },
     "execution_count": 219,
     "metadata": {},
     "output_type": "execute_result"
    }
   ],
   "source": [
    "auto_price['width'].unique()"
   ]
  },
  {
   "cell_type": "code",
   "execution_count": 220,
   "id": "2c5d7d1f",
   "metadata": {},
   "outputs": [
    {
     "data": {
      "text/plain": [
       "array([54.3, 55.7, 55.9, 53.2, 52. , 50.8, 50.6, 59.8, 50.2, 52.6, 54.5,\n",
       "       58.3, 53.3, 54.1, 51. , 52.8, 49.6, 53.7, 55.5, 54.4, 56.5, 58.7,\n",
       "       54.9, 56.3, 49.4, 51.6, 53.5, 54.7, 55.1, 56.1, 49.7, 56.7, 56. ,\n",
       "       52.5, 53. , 59.1, 53.9, 51.4, 56.2, 57.5])"
      ]
     },
     "execution_count": 220,
     "metadata": {},
     "output_type": "execute_result"
    }
   ],
   "source": [
    "auto_price['height'].unique()"
   ]
  },
  {
   "cell_type": "code",
   "execution_count": 221,
   "id": "9fc8ae2a",
   "metadata": {},
   "outputs": [
    {
     "data": {
      "text/plain": [
       "array([2337, 2824, 2844, 3086, 2395, 2710, 2765, 1488, 1874, 1909, 1876,\n",
       "       2128, 1967, 1989, 2535, 2811, 1713, 1819, 1837, 1940, 1956, 2010,\n",
       "       2024, 2236, 2289, 2304, 2372, 2465, 2293, 4066, 1890, 1900, 1905,\n",
       "       1945, 1950, 2380, 2385, 2500, 2410, 2425, 2670, 3515, 3750, 3495,\n",
       "       3770, 3685, 1918, 1944, 2004, 2145, 2370, 2328, 2365, 2405, 2403,\n",
       "       1889, 2017, 1938, 1951, 2028, 1971, 2037, 2008, 2324, 2302, 3095,\n",
       "       3296, 3060, 3071, 3139, 3020, 3197, 3075, 3252, 3130, 2191, 2778,\n",
       "       2658, 2695, 2707, 2758, 2808, 2847, 2050, 2120, 2240, 2190, 2340,\n",
       "       2510, 2290, 2455, 2420, 2650, 1985, 2040, 2015, 2280, 3110, 2081,\n",
       "       2109, 2275, 2094, 2122, 2140, 2169, 2204, 2265, 2300, 2540, 2536,\n",
       "       2551, 2679, 2714, 2975, 2326, 2480, 2414, 2458, 2976, 3016, 3131,\n",
       "       2261, 2209, 2264, 2212, 2319, 2221, 2912, 3034, 2935, 3042, 3045,\n",
       "       3157, 2952, 3049, 3012, 3217, 3062], dtype=int64)"
      ]
     },
     "execution_count": 221,
     "metadata": {},
     "output_type": "execute_result"
    }
   ],
   "source": [
    "auto_price['curb-weight'].unique()"
   ]
  },
  {
   "cell_type": "code",
   "execution_count": 222,
   "id": "6e6a955e",
   "metadata": {},
   "outputs": [
    {
     "data": {
      "text/plain": [
       "array(['ohc', 'l', 'dohc', 'rotor', 'ohcv', 'ohcf'], dtype=object)"
      ]
     },
     "execution_count": 222,
     "metadata": {},
     "output_type": "execute_result"
    }
   ],
   "source": [
    "auto_price['engine-type'].unique()"
   ]
  },
  {
   "cell_type": "code",
   "execution_count": 223,
   "id": "a41d9189",
   "metadata": {},
   "outputs": [],
   "source": [
    "auto_price['engine-type'] = auto_price['engine-type'].replace(['ohc', 'l', 'dohc', 'rotor', 'ohcv', 'ohcf'], [0,1,2,3,4,5])"
   ]
  },
  {
   "cell_type": "code",
   "execution_count": 224,
   "id": "3f318623",
   "metadata": {},
   "outputs": [
    {
     "data": {
      "text/plain": [
       "array([0, 1, 2, 3, 4, 5], dtype=int64)"
      ]
     },
     "execution_count": 224,
     "metadata": {},
     "output_type": "execute_result"
    }
   ],
   "source": [
    "auto_price['engine-type'].unique()"
   ]
  },
  {
   "cell_type": "code",
   "execution_count": 225,
   "id": "2a51921f",
   "metadata": {},
   "outputs": [
    {
     "data": {
      "text/plain": [
       "array(['audi', 'bmw', 'chevrolet', 'dodge', 'honda', 'jaguar', 'mazda',\n",
       "       'mercedes-benz', 'mitsubishi', 'nissan', 'peugot', 'plymouth',\n",
       "       'porsche', 'saab', 'subaru', 'toyota', 'volkswagen', 'volvo'],\n",
       "      dtype=object)"
      ]
     },
     "execution_count": 225,
     "metadata": {},
     "output_type": "execute_result"
    }
   ],
   "source": [
    "auto_price['make'].unique()"
   ]
  },
  {
   "cell_type": "code",
   "execution_count": 226,
   "id": "af574166",
   "metadata": {},
   "outputs": [],
   "source": [
    "auto_price['make'] = auto_price['make'].apply(pd.to_numeric, errors = 'coerce')"
   ]
  },
  {
   "cell_type": "code",
   "execution_count": 227,
   "id": "ed62e732",
   "metadata": {},
   "outputs": [
    {
     "data": {
      "text/plain": [
       "array([nan])"
      ]
     },
     "execution_count": 227,
     "metadata": {},
     "output_type": "execute_result"
    }
   ],
   "source": [
    "auto_price['make'].unique()"
   ]
  },
  {
   "cell_type": "code",
   "execution_count": 228,
   "id": "943d4c4f",
   "metadata": {},
   "outputs": [],
   "source": [
    "auto_price['make'] = np.nan_to_num(auto_price['make'])"
   ]
  },
  {
   "cell_type": "code",
   "execution_count": 229,
   "id": "8c8942af",
   "metadata": {},
   "outputs": [],
   "source": [
    "auto_price['make'] = auto_price['make'].astype(int)"
   ]
  },
  {
   "cell_type": "code",
   "execution_count": 230,
   "id": "88525a31",
   "metadata": {},
   "outputs": [
    {
     "data": {
      "text/plain": [
       "array([0])"
      ]
     },
     "execution_count": 230,
     "metadata": {},
     "output_type": "execute_result"
    }
   ],
   "source": [
    "auto_price['make'].unique()"
   ]
  },
  {
   "cell_type": "code",
   "execution_count": 231,
   "id": "4f6dd022",
   "metadata": {},
   "outputs": [
    {
     "data": {
      "text/plain": [
       "array(['four', 'five', 'six', 'three', 'two', 'eight'], dtype=object)"
      ]
     },
     "execution_count": 231,
     "metadata": {},
     "output_type": "execute_result"
    }
   ],
   "source": [
    "auto_price['num-of-cylinders'].unique()"
   ]
  },
  {
   "cell_type": "code",
   "execution_count": 232,
   "id": "30c21cd5",
   "metadata": {},
   "outputs": [],
   "source": [
    "auto_price['num-of-cylinders'] = auto_price['num-of-cylinders'].replace(['four', 'five', 'six', 'three', 'two', 'eight'], [4,5,6,3,2,8])"
   ]
  },
  {
   "cell_type": "code",
   "execution_count": 233,
   "id": "b2d6d39b",
   "metadata": {},
   "outputs": [
    {
     "data": {
      "text/plain": [
       "array([4, 5, 6, 3, 2, 8], dtype=int64)"
      ]
     },
     "execution_count": 233,
     "metadata": {},
     "output_type": "execute_result"
    }
   ],
   "source": [
    "auto_price['num-of-cylinders'].unique()"
   ]
  },
  {
   "cell_type": "code",
   "execution_count": 234,
   "id": "e184d1ff",
   "metadata": {},
   "outputs": [
    {
     "data": {
      "text/plain": [
       "array([109, 136, 131, 108, 164,  61,  90,  98, 122, 156,  92,  79, 110,\n",
       "       258,  91,  70,  80, 140, 183, 234,  97, 103, 120, 181, 152, 134,\n",
       "       151, 121, 146, 171, 141, 130, 173, 145], dtype=int64)"
      ]
     },
     "execution_count": 234,
     "metadata": {},
     "output_type": "execute_result"
    }
   ],
   "source": [
    "auto_price['engine-size'].unique()"
   ]
  },
  {
   "cell_type": "code",
   "execution_count": 235,
   "id": "35d16c07",
   "metadata": {},
   "outputs": [
    {
     "data": {
      "text/plain": [
       "array([2, 1, 0, 3])"
      ]
     },
     "execution_count": 235,
     "metadata": {},
     "output_type": "execute_result"
    }
   ],
   "source": [
    "auto_price['symboling'].unique()"
   ]
  },
  {
   "cell_type": "code",
   "execution_count": 236,
   "id": "0537844e",
   "metadata": {},
   "outputs": [],
   "source": [
    "auto_price['wheel-base'] = auto_price['wheel-base'].astype(int)"
   ]
  },
  {
   "cell_type": "code",
   "execution_count": 237,
   "id": "afba2f9d",
   "metadata": {},
   "outputs": [
    {
     "data": {
      "text/plain": [
       "array([ 99, 105, 101,  88,  94,  93, 103,  95,  86,  96, 113,  98, 104,\n",
       "       110, 106, 115,  97, 100,  91, 107, 108, 102, 109])"
      ]
     },
     "execution_count": 237,
     "metadata": {},
     "output_type": "execute_result"
    }
   ],
   "source": [
    "auto_price['wheel-base'].unique()"
   ]
  },
  {
   "cell_type": "code",
   "execution_count": 238,
   "id": "6de9f1bf",
   "metadata": {},
   "outputs": [
    {
     "data": {
      "text/plain": [
       "array(['mpfi', '2bbl', 'mfi', '1bbl', '4bbl', 'idi', 'spdi'], dtype=object)"
      ]
     },
     "execution_count": 238,
     "metadata": {},
     "output_type": "execute_result"
    }
   ],
   "source": [
    "auto_price['fuel-system'].unique()"
   ]
  },
  {
   "cell_type": "code",
   "execution_count": 239,
   "id": "e79657e2",
   "metadata": {},
   "outputs": [],
   "source": [
    "auto_price['fuel-system'] = auto_price['fuel-system'].apply(pd.to_numeric, errors='coerce')"
   ]
  },
  {
   "cell_type": "code",
   "execution_count": 240,
   "id": "c035087c",
   "metadata": {},
   "outputs": [
    {
     "data": {
      "text/plain": [
       "array([nan])"
      ]
     },
     "execution_count": 240,
     "metadata": {},
     "output_type": "execute_result"
    }
   ],
   "source": [
    "auto_price['fuel-system'].unique()"
   ]
  },
  {
   "cell_type": "code",
   "execution_count": 241,
   "id": "5a7b727a",
   "metadata": {},
   "outputs": [],
   "source": [
    "auto_price['fuel-system'] = np.nan_to_num(auto_price['fuel-system'])"
   ]
  },
  {
   "cell_type": "code",
   "execution_count": 242,
   "id": "923398e0",
   "metadata": {},
   "outputs": [],
   "source": [
    "auto_price['fuel-system'] = auto_price['fuel-system'].astype(int)"
   ]
  },
  {
   "cell_type": "code",
   "execution_count": 243,
   "id": "ba0843a7",
   "metadata": {},
   "outputs": [
    {
     "data": {
      "text/plain": [
       "array([0])"
      ]
     },
     "execution_count": 243,
     "metadata": {},
     "output_type": "execute_result"
    }
   ],
   "source": [
    "auto_price['fuel-system'].unique()"
   ]
  },
  {
   "cell_type": "code",
   "execution_count": 244,
   "id": "eb9d7330",
   "metadata": {},
   "outputs": [
    {
     "data": {
      "text/plain": [
       "array(['3.19', '3.13', '3.50', '3.31', '2.91', '3.03', '2.97', '3.34',\n",
       "       '3.60', '2.92', '3.15', '3.63', '3.08', '?', '3.39', '3.76',\n",
       "       '3.58', '3.46', '3.17', '3.35', '2.99', '3.33', '3.43', '3.70',\n",
       "       '3.61', '3.94', '3.54', '2.54', '3.62', '3.05', '3.27', '3.24',\n",
       "       '3.01', '3.78'], dtype=object)"
      ]
     },
     "execution_count": 244,
     "metadata": {},
     "output_type": "execute_result"
    }
   ],
   "source": [
    "auto_price['bore'].unique()"
   ]
  },
  {
   "cell_type": "code",
   "execution_count": 245,
   "id": "8d5b6270",
   "metadata": {},
   "outputs": [],
   "source": [
    "auto_price['bore'] = auto_price['bore'].replace(\"?\", np.nan)"
   ]
  },
  {
   "cell_type": "code",
   "execution_count": 246,
   "id": "35b94c3c",
   "metadata": {},
   "outputs": [],
   "source": [
    "auto_price['stroke'] = auto_price['bore'].replace(\"?\", np.nan)"
   ]
  },
  {
   "cell_type": "code",
   "execution_count": 247,
   "id": "9e7eacfa",
   "metadata": {},
   "outputs": [
    {
     "data": {
      "text/plain": [
       "array(['3.19', '3.13', '3.50', '3.31', '2.91', '3.03', '2.97', '3.34',\n",
       "       '3.60', '2.92', '3.15', '3.63', '3.08', nan, '3.39', '3.76',\n",
       "       '3.58', '3.46', '3.17', '3.35', '2.99', '3.33', '3.43', '3.70',\n",
       "       '3.61', '3.94', '3.54', '2.54', '3.62', '3.05', '3.27', '3.24',\n",
       "       '3.01', '3.78'], dtype=object)"
      ]
     },
     "execution_count": 247,
     "metadata": {},
     "output_type": "execute_result"
    }
   ],
   "source": [
    "auto_price['stroke'].unique()"
   ]
  },
  {
   "cell_type": "code",
   "execution_count": 248,
   "id": "55b638df",
   "metadata": {},
   "outputs": [],
   "source": [
    "auto_price = auto_price.dropna()"
   ]
  },
  {
   "cell_type": "code",
   "execution_count": 249,
   "id": "984dddef",
   "metadata": {},
   "outputs": [],
   "source": [
    "auto_price['compression-ratio'] = auto_price['compression-ratio'].astype(int)"
   ]
  },
  {
   "cell_type": "code",
   "execution_count": 250,
   "id": "bf6306ce",
   "metadata": {},
   "outputs": [
    {
     "data": {
      "text/plain": [
       "array([10,  8,  9,  7, 21, 22, 23])"
      ]
     },
     "execution_count": 250,
     "metadata": {},
     "output_type": "execute_result"
    }
   ],
   "source": [
    "auto_price['compression-ratio'].unique()"
   ]
  },
  {
   "cell_type": "code",
   "execution_count": 251,
   "id": "72ea0f84",
   "metadata": {},
   "outputs": [
    {
     "data": {
      "text/plain": [
       "array(['102', '115', '110', '140', '101', '121', '48', '70', '68', '88',\n",
       "       '145', '58', '76', '60', '86', '100', '176', '84', '120', '123',\n",
       "       '155', '116', '69', '55', '97', '152', '160', '200', '95', '142',\n",
       "       '143', '73', '82', '94', '111', '62', '56', '112', '92', '161',\n",
       "       '156', '52', '85', '90', '114', '162', '134', '106'], dtype=object)"
      ]
     },
     "execution_count": 251,
     "metadata": {},
     "output_type": "execute_result"
    }
   ],
   "source": [
    "auto_price['horsepower'].unique()"
   ]
  },
  {
   "cell_type": "code",
   "execution_count": 252,
   "id": "15612d59",
   "metadata": {},
   "outputs": [
    {
     "data": {
      "text/plain": [
       "array(['5500', '5800', '4250', '5100', '5400', '5000', '4800', '6000',\n",
       "       '4750', '4350', '5200', '4150', '5600', '5250', '4900', '4400',\n",
       "       '4500', '6600', '4200', '5300'], dtype=object)"
      ]
     },
     "execution_count": 252,
     "metadata": {},
     "output_type": "execute_result"
    }
   ],
   "source": [
    "auto_price['peak-rpm'].unique()"
   ]
  },
  {
   "cell_type": "code",
   "execution_count": 253,
   "id": "ec6c0106",
   "metadata": {},
   "outputs": [
    {
     "data": {
      "text/plain": [
       "array(['5500', '5800', '4250', '5100', '5400', '5000', '4800', '6000',\n",
       "       '4750', '4350', '5200', '4150', '5600', '5250', '4900', '4400',\n",
       "       '4500', '6600', '4200', '5300'], dtype=object)"
      ]
     },
     "execution_count": 253,
     "metadata": {},
     "output_type": "execute_result"
    }
   ],
   "source": [
    "auto_price['peak-rpm'].unique()"
   ]
  },
  {
   "cell_type": "code",
   "execution_count": 254,
   "id": "38959e11",
   "metadata": {},
   "outputs": [
    {
     "data": {
      "text/plain": [
       "array([24, 18, 19, 17, 23, 21, 47, 38, 37, 31, 49, 30, 27, 25, 15, 26, 22,\n",
       "       16, 45, 28, 32, 35, 34, 29, 20], dtype=int64)"
      ]
     },
     "execution_count": 254,
     "metadata": {},
     "output_type": "execute_result"
    }
   ],
   "source": [
    "auto_price['city-mpg'].unique()"
   ]
  },
  {
   "cell_type": "code",
   "execution_count": 255,
   "id": "7c773af9",
   "metadata": {},
   "outputs": [
    {
     "data": {
      "text/plain": [
       "array([30, 22, 25, 20, 29, 28, 53, 43, 41, 38, 24, 54, 42, 34, 33, 31, 19,\n",
       "       32, 27, 18, 37, 50, 23, 26, 36, 39, 47, 46], dtype=int64)"
      ]
     },
     "execution_count": 255,
     "metadata": {},
     "output_type": "execute_result"
    }
   ],
   "source": [
    "auto_price['highway-mpg'].unique()"
   ]
  },
  {
   "cell_type": "code",
   "execution_count": 256,
   "id": "4415e902",
   "metadata": {},
   "outputs": [
    {
     "data": {
      "text/plain": [
       "array(['13950', '17450', '17710', '23875', '16430', '16925', '20970',\n",
       "       '21105', '5151', '6295', '6575', '5572', '6377', '7957', '6229',\n",
       "       '6692', '7609', '8921', '12964', '6479', '6855', '5399', '6529',\n",
       "       '7129', '7295', '7895', '9095', '8845', '10295', '12945', '10345',\n",
       "       '32250', '5195', '6095', '6795', '6695', '7395', '8495', '10595',\n",
       "       '10245', '11245', '18280', '25552', '28248', '28176', '31600',\n",
       "       '35056', '5389', '6189', '6669', '7689', '9959', '8499', '6989',\n",
       "       '8189', '9279', '5499', '7099', '6649', '6849', '7349', '7299',\n",
       "       '7799', '7499', '7999', '8249', '8949', '9549', '13499', '14399',\n",
       "       '17199', '19699', '18399', '11900', '13200', '15580', '16900',\n",
       "       '16630', '17950', '18150', '22018', '11850', '12170', '15040',\n",
       "       '15510', '18620', '5118', '7053', '7603', '7126', '7775', '9960',\n",
       "       '9233', '11259', '7463', '10198', '8013', '11694', '5348', '6338',\n",
       "       '6488', '6918', '7898', '8778', '6938', '7198', '7788', '7738',\n",
       "       '8358', '9258', '8058', '8238', '9298', '9538', '8449', '9639',\n",
       "       '9989', '11199', '11549', '17669', '8948', '10698', '9988',\n",
       "       '10898', '11248', '16558', '15998', '15690', '7975', '7995',\n",
       "       '8195', '9495', '9995', '9980', '12940', '13415', '15985', '16515',\n",
       "       '18420', '18950', '16845', '19045', '21485', '22470', '22625'],\n",
       "      dtype=object)"
      ]
     },
     "execution_count": 256,
     "metadata": {},
     "output_type": "execute_result"
    }
   ],
   "source": [
    "auto_price['price'].unique()"
   ]
  },
  {
   "cell_type": "code",
   "execution_count": 257,
   "id": "43c39073",
   "metadata": {},
   "outputs": [
    {
     "data": {
      "text/html": [
       "<div>\n",
       "<style scoped>\n",
       "    .dataframe tbody tr th:only-of-type {\n",
       "        vertical-align: middle;\n",
       "    }\n",
       "\n",
       "    .dataframe tbody tr th {\n",
       "        vertical-align: top;\n",
       "    }\n",
       "\n",
       "    .dataframe thead th {\n",
       "        text-align: right;\n",
       "    }\n",
       "</style>\n",
       "<table border=\"1\" class=\"dataframe\">\n",
       "  <thead>\n",
       "    <tr style=\"text-align: right;\">\n",
       "      <th></th>\n",
       "      <th>symboling</th>\n",
       "      <th>normalized-losses</th>\n",
       "      <th>make</th>\n",
       "      <th>fuel-type</th>\n",
       "      <th>aspiration</th>\n",
       "      <th>num-of-doors</th>\n",
       "      <th>body-style</th>\n",
       "      <th>drive-wheels</th>\n",
       "      <th>engine-location</th>\n",
       "      <th>wheel-base</th>\n",
       "      <th>...</th>\n",
       "      <th>engine-size</th>\n",
       "      <th>fuel-system</th>\n",
       "      <th>bore</th>\n",
       "      <th>stroke</th>\n",
       "      <th>compression-ratio</th>\n",
       "      <th>horsepower</th>\n",
       "      <th>peak-rpm</th>\n",
       "      <th>city-mpg</th>\n",
       "      <th>highway-mpg</th>\n",
       "      <th>price</th>\n",
       "    </tr>\n",
       "  </thead>\n",
       "  <tbody>\n",
       "    <tr>\n",
       "      <th>3</th>\n",
       "      <td>2</td>\n",
       "      <td>164</td>\n",
       "      <td>0</td>\n",
       "      <td>0</td>\n",
       "      <td>0</td>\n",
       "      <td>4</td>\n",
       "      <td>0</td>\n",
       "      <td>0</td>\n",
       "      <td>1</td>\n",
       "      <td>99</td>\n",
       "      <td>...</td>\n",
       "      <td>109</td>\n",
       "      <td>0</td>\n",
       "      <td>3.19</td>\n",
       "      <td>3.19</td>\n",
       "      <td>10</td>\n",
       "      <td>102</td>\n",
       "      <td>5500</td>\n",
       "      <td>24</td>\n",
       "      <td>30</td>\n",
       "      <td>13950</td>\n",
       "    </tr>\n",
       "    <tr>\n",
       "      <th>4</th>\n",
       "      <td>2</td>\n",
       "      <td>164</td>\n",
       "      <td>0</td>\n",
       "      <td>0</td>\n",
       "      <td>0</td>\n",
       "      <td>4</td>\n",
       "      <td>0</td>\n",
       "      <td>1</td>\n",
       "      <td>1</td>\n",
       "      <td>99</td>\n",
       "      <td>...</td>\n",
       "      <td>136</td>\n",
       "      <td>0</td>\n",
       "      <td>3.19</td>\n",
       "      <td>3.19</td>\n",
       "      <td>8</td>\n",
       "      <td>115</td>\n",
       "      <td>5500</td>\n",
       "      <td>18</td>\n",
       "      <td>22</td>\n",
       "      <td>17450</td>\n",
       "    </tr>\n",
       "    <tr>\n",
       "      <th>6</th>\n",
       "      <td>1</td>\n",
       "      <td>158</td>\n",
       "      <td>0</td>\n",
       "      <td>0</td>\n",
       "      <td>0</td>\n",
       "      <td>4</td>\n",
       "      <td>0</td>\n",
       "      <td>0</td>\n",
       "      <td>1</td>\n",
       "      <td>105</td>\n",
       "      <td>...</td>\n",
       "      <td>136</td>\n",
       "      <td>0</td>\n",
       "      <td>3.19</td>\n",
       "      <td>3.19</td>\n",
       "      <td>8</td>\n",
       "      <td>110</td>\n",
       "      <td>5500</td>\n",
       "      <td>19</td>\n",
       "      <td>25</td>\n",
       "      <td>17710</td>\n",
       "    </tr>\n",
       "    <tr>\n",
       "      <th>8</th>\n",
       "      <td>1</td>\n",
       "      <td>158</td>\n",
       "      <td>0</td>\n",
       "      <td>0</td>\n",
       "      <td>1</td>\n",
       "      <td>4</td>\n",
       "      <td>0</td>\n",
       "      <td>0</td>\n",
       "      <td>1</td>\n",
       "      <td>105</td>\n",
       "      <td>...</td>\n",
       "      <td>131</td>\n",
       "      <td>0</td>\n",
       "      <td>3.13</td>\n",
       "      <td>3.13</td>\n",
       "      <td>8</td>\n",
       "      <td>140</td>\n",
       "      <td>5500</td>\n",
       "      <td>17</td>\n",
       "      <td>20</td>\n",
       "      <td>23875</td>\n",
       "    </tr>\n",
       "    <tr>\n",
       "      <th>10</th>\n",
       "      <td>2</td>\n",
       "      <td>192</td>\n",
       "      <td>0</td>\n",
       "      <td>0</td>\n",
       "      <td>0</td>\n",
       "      <td>2</td>\n",
       "      <td>0</td>\n",
       "      <td>2</td>\n",
       "      <td>1</td>\n",
       "      <td>101</td>\n",
       "      <td>...</td>\n",
       "      <td>108</td>\n",
       "      <td>0</td>\n",
       "      <td>3.50</td>\n",
       "      <td>3.50</td>\n",
       "      <td>8</td>\n",
       "      <td>101</td>\n",
       "      <td>5800</td>\n",
       "      <td>23</td>\n",
       "      <td>29</td>\n",
       "      <td>16430</td>\n",
       "    </tr>\n",
       "  </tbody>\n",
       "</table>\n",
       "<p>5 rows × 26 columns</p>\n",
       "</div>"
      ],
      "text/plain": [
       "    symboling normalized-losses  make  fuel-type  aspiration  num-of-doors  \\\n",
       "3           2               164     0          0           0             4   \n",
       "4           2               164     0          0           0             4   \n",
       "6           1               158     0          0           0             4   \n",
       "8           1               158     0          0           1             4   \n",
       "10          2               192     0          0           0             2   \n",
       "\n",
       "    body-style  drive-wheels  engine-location  wheel-base  ...  engine-size  \\\n",
       "3            0             0                1          99  ...          109   \n",
       "4            0             1                1          99  ...          136   \n",
       "6            0             0                1         105  ...          136   \n",
       "8            0             0                1         105  ...          131   \n",
       "10           0             2                1         101  ...          108   \n",
       "\n",
       "    fuel-system  bore  stroke  compression-ratio  horsepower  peak-rpm  \\\n",
       "3             0  3.19    3.19                 10         102      5500   \n",
       "4             0  3.19    3.19                  8         115      5500   \n",
       "6             0  3.19    3.19                  8         110      5500   \n",
       "8             0  3.13    3.13                  8         140      5500   \n",
       "10            0  3.50    3.50                  8         101      5800   \n",
       "\n",
       "    city-mpg highway-mpg  price  \n",
       "3         24          30  13950  \n",
       "4         18          22  17450  \n",
       "6         19          25  17710  \n",
       "8         17          20  23875  \n",
       "10        23          29  16430  \n",
       "\n",
       "[5 rows x 26 columns]"
      ]
     },
     "execution_count": 257,
     "metadata": {},
     "output_type": "execute_result"
    }
   ],
   "source": [
    "auto_price.head(5)"
   ]
  },
  {
   "cell_type": "code",
   "execution_count": 258,
   "id": "33278d85",
   "metadata": {},
   "outputs": [],
   "source": [
    "a = auto_price.iloc[:,:25]"
   ]
  },
  {
   "cell_type": "code",
   "execution_count": 259,
   "id": "a0ab53c3",
   "metadata": {},
   "outputs": [],
   "source": [
    "b = auto_price.iloc[:,25:]"
   ]
  },
  {
   "cell_type": "code",
   "execution_count": 260,
   "id": "93a3c841",
   "metadata": {},
   "outputs": [],
   "source": [
    "from sklearn.model_selection import train_test_split"
   ]
  },
  {
   "cell_type": "code",
   "execution_count": 261,
   "id": "23bda78b",
   "metadata": {},
   "outputs": [],
   "source": [
    "a_train, a_test, b_train, b_test = train_test_split(a,b,test_size=0.2)"
   ]
  },
  {
   "cell_type": "code",
   "execution_count": 262,
   "id": "40674f6a",
   "metadata": {},
   "outputs": [],
   "source": [
    "from sklearn.tree import DecisionTreeClassifier"
   ]
  },
  {
   "cell_type": "code",
   "execution_count": 263,
   "id": "34591cc8",
   "metadata": {},
   "outputs": [],
   "source": [
    "model = DecisionTreeClassifier()"
   ]
  },
  {
   "cell_type": "code",
   "execution_count": 264,
   "id": "4787ff17",
   "metadata": {},
   "outputs": [
    {
     "data": {
      "text/plain": [
       "DecisionTreeClassifier()"
      ]
     },
     "execution_count": 264,
     "metadata": {},
     "output_type": "execute_result"
    }
   ],
   "source": [
    "model.fit(a_train, b_train)"
   ]
  },
  {
   "cell_type": "code",
   "execution_count": 265,
   "id": "8cfa6c5c",
   "metadata": {},
   "outputs": [],
   "source": [
    "b_predict = model.predict(a_test)"
   ]
  },
  {
   "cell_type": "code",
   "execution_count": 266,
   "id": "48444ac6",
   "metadata": {},
   "outputs": [],
   "source": [
    "from sklearn.metrics import mean_squared_error, r2_score"
   ]
  },
  {
   "cell_type": "code",
   "execution_count": 267,
   "id": "b2dbbe7e",
   "metadata": {},
   "outputs": [
    {
     "data": {
      "text/plain": [
       "0.8906188779242477"
      ]
     },
     "execution_count": 267,
     "metadata": {},
     "output_type": "execute_result"
    }
   ],
   "source": [
    "r2_score(b_predict, b_test)"
   ]
  },
  {
   "cell_type": "code",
   "execution_count": 268,
   "id": "c3e78893",
   "metadata": {},
   "outputs": [],
   "source": [
    "from sklearn.model_selection import cross_val_score"
   ]
  },
  {
   "cell_type": "code",
   "execution_count": 269,
   "id": "e88df617",
   "metadata": {},
   "outputs": [
    {
     "name": "stderr",
     "output_type": "stream",
     "text": [
      "C:\\Users\\steph\\anaconda3\\lib\\site-packages\\sklearn\\model_selection\\_split.py:666: UserWarning: The least populated class in y has only 1 members, which is less than n_splits=2.\n",
      "  warnings.warn((\"The least populated class in y has only %d\"\n"
     ]
    }
   ],
   "source": [
    "accuracies = cross_val_score(estimator= model, X=a, y=b, cv=2)"
   ]
  },
  {
   "cell_type": "code",
   "execution_count": 270,
   "id": "2b62ae60",
   "metadata": {},
   "outputs": [
    {
     "name": "stdout",
     "output_type": "stream",
     "text": [
      "Accuracy Mean : 0.06914556962025317, Accuracy Std : 0.005854430379746832\n"
     ]
    }
   ],
   "source": [
    "print(\"Accuracy Mean : {}, Accuracy Std : {}\".format(accuracies.mean(), accuracies.std()))"
   ]
  },
  {
   "cell_type": "code",
   "execution_count": null,
   "id": "9abbcd03",
   "metadata": {},
   "outputs": [],
   "source": []
  }
 ],
 "metadata": {
  "kernelspec": {
   "display_name": "Python 3 (ipykernel)",
   "language": "python",
   "name": "python3"
  },
  "language_info": {
   "codemirror_mode": {
    "name": "ipython",
    "version": 3
   },
   "file_extension": ".py",
   "mimetype": "text/x-python",
   "name": "python",
   "nbconvert_exporter": "python",
   "pygments_lexer": "ipython3",
   "version": "3.9.7"
  },
  "toc": {
   "base_numbering": 1,
   "nav_menu": {},
   "number_sections": true,
   "sideBar": true,
   "skip_h1_title": false,
   "title_cell": "Table of Contents",
   "title_sidebar": "Contents",
   "toc_cell": false,
   "toc_position": {},
   "toc_section_display": true,
   "toc_window_display": false
  }
 },
 "nbformat": 4,
 "nbformat_minor": 5
}
